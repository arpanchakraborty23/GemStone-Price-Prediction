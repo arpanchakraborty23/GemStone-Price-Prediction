{
 "cells": [
  {
   "cell_type": "code",
   "execution_count": 1,
   "metadata": {},
   "outputs": [],
   "source": [
    "import os\n"
   ]
  },
  {
   "cell_type": "code",
   "execution_count": 2,
   "metadata": {},
   "outputs": [],
   "source": [
    "os.chdir('../')"
   ]
  },
  {
   "cell_type": "code",
   "execution_count": 3,
   "metadata": {},
   "outputs": [
    {
     "data": {
      "text/plain": [
       "'e:\\\\gemstone'"
      ]
     },
     "execution_count": 3,
     "metadata": {},
     "output_type": "execute_result"
    }
   ],
   "source": [
    "pwd"
   ]
  },
  {
   "cell_type": "code",
   "execution_count": 5,
   "metadata": {},
   "outputs": [],
   "source": [
    "from src.logging.logger import logging\n",
    "from src.exception.exception import CustomException\n",
    "from src.utils.utils import read_yaml,create_dir\n",
    "from src.constant.ymal_path import *\n",
    "from pymongo import MongoClient\n",
    "\n",
    "from dotenv import load_dotenv\n",
    "load_dotenv()\n",
    "url=os.getenv('url')\n",
    "db=os.getenv('db')\n",
    "collection=os.getenv('collection')"
   ]
  },
  {
   "cell_type": "code",
   "execution_count": 34,
   "metadata": {},
   "outputs": [],
   "source": [
    "from dataclasses import dataclass\n",
    "from pathlib import Path\n",
    "\n",
    "@dataclass\n",
    "class DataIngestionConfig:\n",
    "    dir:Path\n",
    "    train_data: Path\n",
    "    test_data: Path\n",
    "    raw_data : Path"
   ]
  },
  {
   "cell_type": "code",
   "execution_count": 35,
   "metadata": {},
   "outputs": [],
   "source": [
    "class ConfigManager:\n",
    "    def __init__(self,\n",
    "                 config_file_path=Config_ymal_file_path,\n",
    "                 prams_file_path=Param_ymal_file_path,\n",
    "                 schema_file_path=Schema_ymal_file_path) -> None:\n",
    "        self.config=read_yaml(config_file_path)\n",
    "        self.params=read_yaml(prams_file_path)\n",
    "        self.schema=read_yaml(schema_file_path)\n",
    "\n",
    "        create_dir([self.config.artifacts_root])\n",
    "\n",
    "\n",
    "    \n",
    "    def get_data_ingestion_config(self) -> DataIngestionConfig:\n",
    "        config = self.config.data_ingestion\n",
    "\n",
    "        create_dir([config.dir])\n",
    "\n",
    "        data_ingestion_config = DataIngestionConfig(\n",
    "           dir=config.dir,\n",
    "           train_data=config.train_data,\n",
    "           test_data=config.test_data,\n",
    "           raw_data=config.raw_data\n",
    "        )\n",
    "\n",
    "        return data_ingestion_config"
   ]
  },
  {
   "cell_type": "code",
   "execution_count": 15,
   "metadata": {},
   "outputs": [],
   "source": [
    "from src.utils.utils import read_data_from_db\n",
    "from sklearn.model_selection import train_test_split\n",
    "import sys"
   ]
  },
  {
   "cell_type": "code",
   "execution_count": 36,
   "metadata": {},
   "outputs": [],
   "source": [
    "class DataIngestion:\n",
    "    def __init__(self,config:DataIngestionConfig) -> None:\n",
    "        self.config=config\n",
    "\n",
    "    def initiate_data_ingestion(self):\n",
    "        try:\n",
    "            logging.info('data ingestion has started')\n",
    "            df=read_data_from_db(url=url,db=db,collection=collection)\n",
    "\n",
    "            print(df.head())\n",
    "           \n",
    "            df.to_csv(self.config.raw_data)\n",
    "\n",
    "            train_data,test_data=train_test_split(df,test_size=0.26,random_state=0)\n",
    "\n",
    "            train_data.to_csv(self.config.train_data)\n",
    "\n",
    "            test_data.to_csv(self.config.test_data)\n",
    "\n",
    "            logging.info('Data ingestion completed')\n",
    "\n",
    "            return (\n",
    "                self.config.test_data,\n",
    "                self.config.test_data\n",
    "            )            \n",
    "        except PermissionError as e:\n",
    "            logging.info(f'Error cooured {str(e)}')\n",
    "            raise CustomException(sys,e)        "
   ]
  },
  {
   "cell_type": "code",
   "execution_count": 37,
   "metadata": {},
   "outputs": [
    {
     "name": "stdout",
     "output_type": "stream",
     "text": [
      "   id  carat        cut color clarity  depth  table     x     y     z  price\n",
      "0   0   1.52    Premium     F     VS2   62.2   58.0  7.27  7.33  4.55  13619\n",
      "1   1   2.03  Very Good     J     SI2   62.0   58.0  8.06  8.12  5.05  13387\n",
      "2   2   0.70      Ideal     G     VS1   61.2   57.0  5.69  5.73  3.50   2772\n",
      "3   3   0.32      Ideal     G     VS1   61.6   56.0  4.38  4.41  2.71    666\n",
      "4   4   1.70    Premium     G     VS2   62.6   59.0  7.65  7.61  4.77  14453\n",
      "   id  carat        cut color clarity  depth  table     x     y     z  price\n",
      "0   0   1.52    Premium     F     VS2   62.2   58.0  7.27  7.33  4.55  13619\n",
      "1   1   2.03  Very Good     J     SI2   62.0   58.0  8.06  8.12  5.05  13387\n",
      "2   2   0.70      Ideal     G     VS1   61.2   57.0  5.69  5.73  3.50   2772\n",
      "3   3   0.32      Ideal     G     VS1   61.6   56.0  4.38  4.41  2.71    666\n",
      "4   4   1.70    Premium     G     VS2   62.6   59.0  7.65  7.61  4.77  14453\n"
     ]
    }
   ],
   "source": [
    "try:\n",
    "    config=ConfigManager()\n",
    "    data_ingestion_config=config.get_data_ingestion_config()\n",
    "    data_ingestion=DataIngestion(config=data_ingestion_config)\n",
    "    data_ingestion.initiate_data_ingestion()\n",
    "except Exception as e:\n",
    "            logging.info(f'Error cooured {str(e)}')\n",
    "            raise CustomException(sys,e)           "
   ]
  },
  {
   "cell_type": "code",
   "execution_count": null,
   "metadata": {},
   "outputs": [],
   "source": []
  }
 ],
 "metadata": {
  "kernelspec": {
   "display_name": "Python 3",
   "language": "python",
   "name": "python3"
  },
  "language_info": {
   "codemirror_mode": {
    "name": "ipython",
    "version": 3
   },
   "file_extension": ".py",
   "mimetype": "text/x-python",
   "name": "python",
   "nbconvert_exporter": "python",
   "pygments_lexer": "ipython3",
   "version": "3.10.0"
  }
 },
 "nbformat": 4,
 "nbformat_minor": 2
}
