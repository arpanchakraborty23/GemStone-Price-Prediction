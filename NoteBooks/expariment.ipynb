{
 "cells": [
  {
   "cell_type": "code",
   "execution_count": 1,
   "metadata": {},
   "outputs": [],
   "source": [
    "import os,sys"
   ]
  },
  {
   "cell_type": "code",
   "execution_count": 2,
   "metadata": {},
   "outputs": [],
   "source": [
    "os.chdir('../')\n"
   ]
  },
  {
   "cell_type": "code",
   "execution_count": 3,
   "metadata": {},
   "outputs": [
    {
     "data": {
      "text/plain": [
       "'e:\\\\gemstone'"
      ]
     },
     "execution_count": 3,
     "metadata": {},
     "output_type": "execute_result"
    }
   ],
   "source": [
    "pwd"
   ]
  },
  {
   "cell_type": "code",
   "execution_count": 4,
   "metadata": {},
   "outputs": [],
   "source": [
    "import pandas as pd\n",
    "import numpy as np\n",
    "from src.utils.utils import read_yaml,create_dir,save_obj,model_evaluate\n",
    "from src.constant.ymal_path import *\n",
    "import yaml\n",
    "from dataclasses import dataclass"
   ]
  },
  {
   "cell_type": "code",
   "execution_count": 5,
   "metadata": {},
   "outputs": [],
   "source": [
    "from pathlib import Path\n",
    "\n",
    "@dataclass\n",
    "class ModelTrainExConfig:\n",
    "    dir:Path\n",
    "    train_arr:Path\n",
    "    test_arr:Path\n",
    "    model: Path\n",
    " "
   ]
  },
  {
   "cell_type": "code",
   "execution_count": 6,
   "metadata": {},
   "outputs": [],
   "source": [
    "class ConfigManager:\n",
    "    def __init__(self,\n",
    "                    config_filr_path=Config_ymal_file_path,\n",
    "                    models_file_path=Model_ymal_file_path):\n",
    "            self.config=read_yaml(config_filr_path)\n",
    "            self.models=read_yaml(models_file_path)\n",
    "          \n",
    "           \n",
    "\n",
    "            create_dir([self.config.artifacts_root])\n",
    "\n",
    "    def get_model_train_config(self):\n",
    "          config=self.config.model_trainer_exp\n",
    "       \n",
    "\n",
    "          create_dir([config.dir])\n",
    "\n",
    "          model_train_config=ModelTrainExConfig(\n",
    "                dir=config.dir,\n",
    "                train_arr=config.train_arr,\n",
    "                test_arr=config.test_arr,\n",
    "                model=config.model\n",
    "              \n",
    "               \n",
    "                \n",
    "          )\n",
    "          return model_train_config"
   ]
  },
  {
   "cell_type": "code",
   "execution_count": 7,
   "metadata": {},
   "outputs": [],
   "source": [
    "from src.logging.logger import logging\n",
    "from src.exception.exception import CustomException\n",
    "from sklearn.linear_model import LinearRegression,Lasso,ElasticNet,Ridge\n",
    "from sklearn.tree import DecisionTreeRegressor\n",
    "from sklearn.ensemble import RandomForestRegressor\n",
    "from sklearn.metrics import r2_score,mean_absolute_error,mean_squared_error\n"
   ]
  },
  {
   "cell_type": "code",
   "execution_count": 18,
   "metadata": {},
   "outputs": [],
   "source": [
    "def model_evaluate(x_train, y_train, x_test, y_test, models):\n",
    "    trained_models = {}\n",
    "\n",
    "    # Train and evaluate each model\n",
    "    for model_name, model_params in models.items():\n",
    "        model = None\n",
    "        if model_name == 'DecisionTree Regressor':\n",
    "            model = DecisionTreeRegressor(**model_params)\n",
    "        elif model_name == 'ElasticNet Regression':\n",
    "            model = ElasticNet(**model_params)\n",
    "        elif model_name == 'Lasso Regression':\n",
    "            model = Lasso(**model_params)\n",
    "        elif model_name == 'Linear Regression':\n",
    "            model = LinearRegression(**model_params)\n",
    "        elif model_name == 'RandomForest Regressor':\n",
    "            model = RandomForestRegressor(**model_params)\n",
    "        elif model_name == 'Ridge Regression':\n",
    "            model = Ridge(**model_params)\n",
    "        else:\n",
    "            print(f\"Unknown model type: {model_name}\")\n",
    "            continue\n",
    "        \n",
    "        model.fit(x_train, y_train)\n",
    "        y_pred = model.predict(x_test)\n",
    "\n",
    "        accuracy=r2_score(y_test,y_pred)\n",
    "        mae = mean_absolute_error(y_test, y_pred)\n",
    "       \n",
    "\n",
    "            # Calculate mean squared error\n",
    "        mse = mean_squared_error(y_test, y_pred)\n",
    "          \n",
    "        trained_models=[\n",
    "                f'Accuracy: {accuracy:.2f}%  MAE: {mae:.2f}%  MSE: {mse:.2f}%'   \n",
    "            ]\n",
    "    return trained_models\n"
   ]
  },
  {
   "cell_type": "code",
   "execution_count": 22,
   "metadata": {},
   "outputs": [],
   "source": [
    "from mlflow import models\n",
    "\n",
    "\n",
    "class ModelTrain:\n",
    "    def __init__(self,config:ModelTrainExConfig) -> None:\n",
    "        self.config=config\n",
    "\n",
    "    def initate_model_trainer(self):\n",
    "        try:\n",
    "            train_array=np.load(self.config.train_arr)\n",
    "            test_array=np.load(self.config.test_arr)\n",
    "\n",
    "            x_train, y_train, x_test, y_test = (\n",
    "                train_array[:,:-1],\n",
    "                train_array[:,-1],\n",
    "                test_array[:,:-1],\n",
    "                test_array[:,-1])\n",
    "            \n",
    "\n",
    "            model_report:dict=model_evaluate(x_train, y_train, x_test, y_test,models=self.config.model)\n",
    "            \n",
    "\n",
    "            print( model_report)\n",
    "\n",
    "            \n",
    "            logging.info(f'Model Report : {model_report}')\n",
    "\n",
    "            print('\\n====================================================================================\\n')\n",
    "\n",
    "            # 6. Find the best model\n",
    "            best_model_score=max(sorted(model_report.values()))\n",
    "\n",
    "            \n",
    "            best_model_name = list(model_report.keys())[\n",
    "                list(model_report.values()).index(best_model_score)\n",
    "            ]\n",
    "\n",
    "            best_model = models[best_model_name]\n",
    "\n",
    "            print(f'Best Model Found , Model Name : {best_model_name} , Score : {best_model_score}')\n",
    "            print('\\n====================================================================================\\n')\n",
    "            logging.info(f'Best Model Found , Model Name : {best_model_name} , Score : {best_model_score}')\n",
    "\n",
    "\n",
    "            save_obj(\n",
    "                file_path=self.config.model,\n",
    "                obj=best_model\n",
    "            )\n",
    "            return best_model\n",
    "            \n",
    "            \n",
    "            \n",
    "        except CustomException as e:\n",
    "            logging.info(f'Error cooured {str(e)}')\n",
    "            raise CustomException(sys,e)    \n"
   ]
  },
  {
   "cell_type": "code",
   "execution_count": 23,
   "metadata": {},
   "outputs": [],
   "source": [
    "import yaml\n",
    "\n",
    "# Replace 'your_file.yaml' with the path to your YAML file\n",
    "with open('models.yaml', 'r') as file:\n",
    "   models= yaml.safe_load(file)\n",
    "\n"
   ]
  },
  {
   "cell_type": "code",
   "execution_count": 24,
   "metadata": {},
   "outputs": [
    {
     "ename": "AttributeError",
     "evalue": "'str' object has no attribute 'items'",
     "output_type": "error",
     "traceback": [
      "\u001b[1;31m---------------------------------------------------------------------------\u001b[0m",
      "\u001b[1;31mAttributeError\u001b[0m                            Traceback (most recent call last)",
      "Cell \u001b[1;32mIn[24], line 5\u001b[0m\n\u001b[0;32m      3\u001b[0m     model_train_config\u001b[38;5;241m=\u001b[39mconfig\u001b[38;5;241m.\u001b[39mget_model_train_config()\n\u001b[0;32m      4\u001b[0m     model_train\u001b[38;5;241m=\u001b[39mModelTrain(config\u001b[38;5;241m=\u001b[39mmodel_train_config)\n\u001b[1;32m----> 5\u001b[0m     \u001b[43mmodel_train\u001b[49m\u001b[38;5;241;43m.\u001b[39;49m\u001b[43minitate_model_trainer\u001b[49m\u001b[43m(\u001b[49m\u001b[43m)\u001b[49m\n\u001b[0;32m      6\u001b[0m \u001b[38;5;28;01mexcept\u001b[39;00m CustomException \u001b[38;5;28;01mas\u001b[39;00m e:\n\u001b[0;32m      7\u001b[0m             logging\u001b[38;5;241m.\u001b[39minfo(\u001b[38;5;124mf\u001b[39m\u001b[38;5;124m'\u001b[39m\u001b[38;5;124mError cooured \u001b[39m\u001b[38;5;132;01m{\u001b[39;00m\u001b[38;5;28mstr\u001b[39m(e)\u001b[38;5;132;01m}\u001b[39;00m\u001b[38;5;124m'\u001b[39m)\n",
      "Cell \u001b[1;32mIn[22], line 17\u001b[0m, in \u001b[0;36mModelTrain.initate_model_trainer\u001b[1;34m(self)\u001b[0m\n\u001b[0;32m      8\u001b[0m test_array\u001b[38;5;241m=\u001b[39mnp\u001b[38;5;241m.\u001b[39mload(\u001b[38;5;28mself\u001b[39m\u001b[38;5;241m.\u001b[39mconfig\u001b[38;5;241m.\u001b[39mtest_arr)\n\u001b[0;32m     10\u001b[0m x_train, y_train, x_test, y_test \u001b[38;5;241m=\u001b[39m (\n\u001b[0;32m     11\u001b[0m     train_array[:,:\u001b[38;5;241m-\u001b[39m\u001b[38;5;241m1\u001b[39m],\n\u001b[0;32m     12\u001b[0m     train_array[:,\u001b[38;5;241m-\u001b[39m\u001b[38;5;241m1\u001b[39m],\n\u001b[0;32m     13\u001b[0m     test_array[:,:\u001b[38;5;241m-\u001b[39m\u001b[38;5;241m1\u001b[39m],\n\u001b[0;32m     14\u001b[0m     test_array[:,\u001b[38;5;241m-\u001b[39m\u001b[38;5;241m1\u001b[39m])\n\u001b[1;32m---> 17\u001b[0m model_report:\u001b[38;5;28mdict\u001b[39m\u001b[38;5;241m=\u001b[39m\u001b[43mmodel_evaluate\u001b[49m\u001b[43m(\u001b[49m\u001b[43mx_train\u001b[49m\u001b[43m,\u001b[49m\u001b[43m \u001b[49m\u001b[43my_train\u001b[49m\u001b[43m,\u001b[49m\u001b[43m \u001b[49m\u001b[43mx_test\u001b[49m\u001b[43m,\u001b[49m\u001b[43m \u001b[49m\u001b[43my_test\u001b[49m\u001b[43m,\u001b[49m\u001b[43mmodels\u001b[49m\u001b[38;5;241;43m=\u001b[39;49m\u001b[38;5;28;43mself\u001b[39;49m\u001b[38;5;241;43m.\u001b[39;49m\u001b[43mconfig\u001b[49m\u001b[38;5;241;43m.\u001b[39;49m\u001b[43mmodel\u001b[49m\u001b[43m)\u001b[49m\n\u001b[0;32m     20\u001b[0m \u001b[38;5;28mprint\u001b[39m( model_report)\n\u001b[0;32m     23\u001b[0m logging\u001b[38;5;241m.\u001b[39minfo(\u001b[38;5;124mf\u001b[39m\u001b[38;5;124m'\u001b[39m\u001b[38;5;124mModel Report : \u001b[39m\u001b[38;5;132;01m{\u001b[39;00mmodel_report\u001b[38;5;132;01m}\u001b[39;00m\u001b[38;5;124m'\u001b[39m)\n",
      "Cell \u001b[1;32mIn[18], line 5\u001b[0m, in \u001b[0;36mmodel_evaluate\u001b[1;34m(x_train, y_train, x_test, y_test, models)\u001b[0m\n\u001b[0;32m      2\u001b[0m trained_models \u001b[38;5;241m=\u001b[39m {}\n\u001b[0;32m      4\u001b[0m \u001b[38;5;66;03m# Train and evaluate each model\u001b[39;00m\n\u001b[1;32m----> 5\u001b[0m \u001b[38;5;28;01mfor\u001b[39;00m model_name, model_params \u001b[38;5;129;01min\u001b[39;00m \u001b[43mmodels\u001b[49m\u001b[38;5;241;43m.\u001b[39;49m\u001b[43mitems\u001b[49m():\n\u001b[0;32m      6\u001b[0m     model \u001b[38;5;241m=\u001b[39m \u001b[38;5;28;01mNone\u001b[39;00m\n\u001b[0;32m      7\u001b[0m     \u001b[38;5;28;01mif\u001b[39;00m model_name \u001b[38;5;241m==\u001b[39m \u001b[38;5;124m'\u001b[39m\u001b[38;5;124mDecisionTree Regressor\u001b[39m\u001b[38;5;124m'\u001b[39m:\n",
      "\u001b[1;31mAttributeError\u001b[0m: 'str' object has no attribute 'items'"
     ]
    }
   ],
   "source": [
    "try:\n",
    "    config=ConfigManager()\n",
    "    model_train_config=config.get_model_train_config()\n",
    "    model_train=ModelTrain(config=model_train_config)\n",
    "    model_train.initate_model_trainer()\n",
    "except CustomException as e:\n",
    "            logging.info(f'Error cooured {str(e)}')\n",
    "            raise CustomException(sys,e)       "
   ]
  },
  {
   "cell_type": "code",
   "execution_count": null,
   "metadata": {},
   "outputs": [],
   "source": []
  }
 ],
 "metadata": {
  "kernelspec": {
   "display_name": "Python 3",
   "language": "python",
   "name": "python3"
  },
  "language_info": {
   "codemirror_mode": {
    "name": "ipython",
    "version": 3
   },
   "file_extension": ".py",
   "mimetype": "text/x-python",
   "name": "python",
   "nbconvert_exporter": "python",
   "pygments_lexer": "ipython3",
   "version": "3.10.0"
  }
 },
 "nbformat": 4,
 "nbformat_minor": 2
}
