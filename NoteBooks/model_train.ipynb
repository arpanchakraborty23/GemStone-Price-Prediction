{
 "cells": [
  {
   "cell_type": "code",
   "execution_count": 1,
   "metadata": {},
   "outputs": [],
   "source": [
    "import os,sys"
   ]
  },
  {
   "cell_type": "code",
   "execution_count": 2,
   "metadata": {},
   "outputs": [],
   "source": [
    "os.chdir('../')"
   ]
  },
  {
   "cell_type": "code",
   "execution_count": 3,
   "metadata": {},
   "outputs": [
    {
     "data": {
      "text/plain": [
       "'e:\\\\gemstone'"
      ]
     },
     "execution_count": 3,
     "metadata": {},
     "output_type": "execute_result"
    }
   ],
   "source": [
    "pwd"
   ]
  },
  {
   "cell_type": "code",
   "execution_count": 4,
   "metadata": {},
   "outputs": [],
   "source": [
    "import pandas as pd\n",
    "import numpy as np\n",
    "from src.utils.utils import read_yaml,create_dir,save_obj,model_evaluate\n",
    "from src.constant.ymal_path import *\n",
    "from dataclasses import dataclass"
   ]
  },
  {
   "cell_type": "code",
   "execution_count": 21,
   "metadata": {},
   "outputs": [],
   "source": [
    "from pathlib import Path\n",
    "\n",
    "@dataclass\n",
    "class ModelTrainConfig:\n",
    "    dir:Path\n",
    "    train_arr:Path\n",
    "    test_arr:Path\n",
    "    model: Path"
   ]
  },
  {
   "cell_type": "code",
   "execution_count": 27,
   "metadata": {},
   "outputs": [],
   "source": [
    "class ConfigManager:\n",
    "    def __init__(self,\n",
    "                    config_filr_path=Config_ymal_file_path,\n",
    "                    prams_file_path=Param_ymal_file_path\n",
    "                    ):\n",
    "            self.config=read_yaml(config_filr_path)\n",
    "            self.params=read_yaml(prams_file_path)\n",
    "           \n",
    "\n",
    "            create_dir([self.config.artifacts_root])\n",
    "\n",
    "    def get_model_train_config(self):\n",
    "          config=self.config.model_trainer\n",
    "          \n",
    "         \n",
    "\n",
    "          create_dir([config.dir])\n",
    "\n",
    "          model_train_config=ModelTrainConfig(\n",
    "                dir=config.dir,\n",
    "                train_arr=config.train_arr,\n",
    "                test_arr=config.test_arr,\n",
    "                model=config.model\n",
    "                \n",
    "          )\n",
    "          return model_train_config"
   ]
  },
  {
   "cell_type": "code",
   "execution_count": 28,
   "metadata": {},
   "outputs": [],
   "source": [
    "from src.logging.logger import logging\n",
    "from src.exception.exception import CustomException"
   ]
  },
  {
   "cell_type": "code",
   "execution_count": 29,
   "metadata": {},
   "outputs": [],
   "source": [
    "from sklearn.linear_model import LinearRegression,Lasso,ElasticNet,Ridge\n",
    "from sklearn.tree import DecisionTreeRegressor\n",
    "from sklearn.ensemble import RandomForestRegressor"
   ]
  },
  {
   "cell_type": "code",
   "execution_count": 32,
   "metadata": {},
   "outputs": [],
   "source": [
    "class ModelTrain:\n",
    "    def __init__(self,config:ModelTrainConfig) -> None:\n",
    "        self.config=config\n",
    "\n",
    "    def initate_model_trainer(self):\n",
    "        try:\n",
    "            train_array=np.load(self.config.train_arr)\n",
    "            test_array=np.load(self.config.test_arr)\n",
    "\n",
    "            x_train, y_train, x_test, y_test = (\n",
    "                train_array[:,:-1],\n",
    "                train_array[:,-1],\n",
    "                test_array[:,:-1],\n",
    "                test_array[:,-1])\n",
    "            models={\n",
    "                'Liner Regression':LinearRegression(),\n",
    "                'Lasso Regression': Lasso(),\n",
    "                'ElasticNet Regression': ElasticNet(),\n",
    "                'Ridge Regeassor' : Ridge(),\n",
    "                'RandomForest Regressor': RandomForestRegressor(),\n",
    "                'DecisionTree Regressor' : DecisionTreeRegressor()\n",
    "                }\n",
    "            model_report:dict=model_evaluate(x_train=x_train,y_train=y_train,x_test=x_test,y_test=y_test,models=models)   \n",
    "            print( model_report)\n",
    "\n",
    "            print( model_report)\n",
    "\n",
    "            \n",
    "            logging.info(f'Model Report : {model_report}')\n",
    "\n",
    "            print('\\n====================================================================================\\n')\n",
    "\n",
    "            # 6. Find the best model\n",
    "            best_model_score=max(sorted(model_report.values()))\n",
    "\n",
    "            \n",
    "            best_model_name = list(model_report.keys())[\n",
    "                list(model_report.values()).index(best_model_score)\n",
    "            ]\n",
    "\n",
    "            best_model = models[best_model_name]\n",
    "\n",
    "            print(f'Best Model Found , Model Name : {best_model_name} , Score : {best_model_score}')\n",
    "            print('\\n====================================================================================\\n')\n",
    "            logging.info(f'Best Model Found , Model Name : {best_model_name} , Score : {best_model_score}')\n",
    "\n",
    "\n",
    "            save_obj(\n",
    "                file_path=self.config.model,\n",
    "                obj=best_model\n",
    "            )\n",
    "            return self.config.model\n",
    "            \n",
    "        except CustomException as e:\n",
    "            logging.info(f'Error cooured {str(e)}')\n",
    "            raise CustomException(sys,e)    \n"
   ]
  },
  {
   "cell_type": "code",
   "execution_count": 33,
   "metadata": {},
   "outputs": [
    {
     "name": "stdout",
     "output_type": "stream",
     "text": [
      "{'Liner Regression': ['Accuracy: 93.73%  MAE: 674.74%  MSE: 1023412.13%'], 'Lasso Regression': ['Accuracy: 93.73%  MAE: 675.89%  MSE: 1023864.61%'], 'ElasticNet Regression': ['Accuracy: 85.53%  MAE: 1067.72%  MSE: 2361647.57%'], 'Ridge Regeassor': ['Accuracy: 93.73%  MAE: 674.77%  MSE: 1023382.10%'], 'RandomForest Regressor': ['Accuracy: 97.79%  MAE: 308.63%  MSE: 360519.05%'], 'DecisionTree Regressor': ['Accuracy: 95.79%  MAE: 423.95%  MSE: 686727.63%']}\n",
      "{'Liner Regression': ['Accuracy: 93.73%  MAE: 674.74%  MSE: 1023412.13%'], 'Lasso Regression': ['Accuracy: 93.73%  MAE: 675.89%  MSE: 1023864.61%'], 'ElasticNet Regression': ['Accuracy: 85.53%  MAE: 1067.72%  MSE: 2361647.57%'], 'Ridge Regeassor': ['Accuracy: 93.73%  MAE: 674.77%  MSE: 1023382.10%'], 'RandomForest Regressor': ['Accuracy: 97.79%  MAE: 308.63%  MSE: 360519.05%'], 'DecisionTree Regressor': ['Accuracy: 95.79%  MAE: 423.95%  MSE: 686727.63%']}\n",
      "\n",
      "====================================================================================\n",
      "\n",
      "Best Model Found , Model Name : RandomForest Regressor , Score : ['Accuracy: 97.79%  MAE: 308.63%  MSE: 360519.05%']\n",
      "\n",
      "====================================================================================\n",
      "\n"
     ]
    }
   ],
   "source": [
    "try:\n",
    "    config=ConfigManager()\n",
    "    model_train_config=config.get_model_train_config()\n",
    "    model_train=ModelTrain(config=model_train_config)\n",
    "    model_train.initate_model_trainer()\n",
    "except CustomException as e:\n",
    "            logging.info(f'Error cooured {str(e)}')\n",
    "            raise CustomException(sys,e)       "
   ]
  },
  {
   "cell_type": "code",
   "execution_count": null,
   "metadata": {},
   "outputs": [],
   "source": []
  }
 ],
 "metadata": {
  "kernelspec": {
   "display_name": "Python 3",
   "language": "python",
   "name": "python3"
  },
  "language_info": {
   "codemirror_mode": {
    "name": "ipython",
    "version": 3
   },
   "file_extension": ".py",
   "mimetype": "text/x-python",
   "name": "python",
   "nbconvert_exporter": "python",
   "pygments_lexer": "ipython3",
   "version": "3.10.0"
  }
 },
 "nbformat": 4,
 "nbformat_minor": 2
}
